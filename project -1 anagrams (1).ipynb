{
 "cells": [
  {
   "cell_type": "code",
   "execution_count": 1,
   "id": "04eccc93",
   "metadata": {},
   "outputs": [
    {
     "name": "stdout",
     "output_type": "stream",
     "text": [
      "['b', 'o', 'a', 't']\n"
     ]
    }
   ],
   "source": [
    "w=\"boat\"\n",
    "x=list(w)\n",
    "print(x)"
   ]
  },
  {
   "cell_type": "code",
   "execution_count": 2,
   "id": "b1c93248",
   "metadata": {},
   "outputs": [
    {
     "name": "stdout",
     "output_type": "stream",
     "text": [
      "['a', 'o', 'b', 't']\n"
     ]
    }
   ],
   "source": [
    "\n",
    "def swap(list,pos1,pos2):\n",
    "    list[pos1],list[pos2]=list[pos2],list[pos1]\n",
    "    return list\n",
    "w1=swap(x,0,2)\n",
    "print(w1)\n",
    "    "
   ]
  },
  {
   "cell_type": "code",
   "execution_count": 3,
   "id": "f2c5fc6d",
   "metadata": {},
   "outputs": [
    {
     "name": "stdout",
     "output_type": "stream",
     "text": [
      "a o b t\n"
     ]
    }
   ],
   "source": [
    "str=' '\n",
    "w3=str.join(w1)\n",
    "print(w3)\n"
   ]
  },
  {
   "cell_type": "code",
   "execution_count": 5,
   "id": "2730b464",
   "metadata": {},
   "outputs": [
    {
     "name": "stdout",
     "output_type": "stream",
     "text": [
      "['t', 'o', 'a', 'b']\n"
     ]
    }
   ],
   "source": [
    "\n",
    "def swap(list,pos1,pos2,pos3):\n",
    "    list[pos1],list[pos2],list[pos3]=list[pos3],list[pos1],list[pos2]\n",
    "    return list\n",
    "w1= swap(x,0,2,3)\n",
    "print(w1)"
   ]
  },
  {
   "cell_type": "code",
   "execution_count": 7,
   "id": "c19c65f2",
   "metadata": {},
   "outputs": [
    {
     "name": "stdout",
     "output_type": "stream",
     "text": [
      "['c', 'r', 'e', 'a', 't', 'e']\n",
      "['t', 'r', 'c', 'a', 'e', 'e']\n",
      "t r c a e e\n"
     ]
    }
   ],
   "source": [
    "w=\"create\"\n",
    "x= list(w)\n",
    "print(x)\n",
    "def swap(list,pos1,pos2,pos3):\n",
    "    list[pos1],list[pos2],list[pos3]=list[pos3],list[pos1],list[pos2]\n",
    "    return list\n",
    "w1= swap(x,0,2,4)\n",
    "print(w1)\n",
    "str=' '\n",
    "w3=str.join(w1)\n",
    "print(w3)"
   ]
  },
  {
   "cell_type": "code",
   "execution_count": 8,
   "id": "85a75afe",
   "metadata": {},
   "outputs": [
    {
     "name": "stdout",
     "output_type": "stream",
     "text": [
      "['p', 'r', 'e', 's', 'e', 'n', 't']\n",
      "['e', 'r', 'p', 's', 'e', 'n', 't']\n",
      "e r p s e n t\n"
     ]
    }
   ],
   "source": [
    "w=\"present\"\n",
    "x=list(w)\n",
    "print(x)\n",
    "\n",
    "def swap(list,pos1,pos2,pos3):\n",
    "    list[pos1],list[pos2],list[pos3]=list[pos3],list[pos1],list[pos2]\n",
    "    return list\n",
    "w1=swap(x,0,2,4)\n",
    "print(w1)\n",
    "str=' '\n",
    "w3=str.join(w1)\n",
    "print(w3)"
   ]
  },
  {
   "cell_type": "code",
   "execution_count": 1,
   "id": "412965b1",
   "metadata": {},
   "outputs": [
    {
     "name": "stdout",
     "output_type": "stream",
     "text": [
      "['b', 'o', 'm', 'b', 'o', 'o']\n",
      "['o', 'o', 'b', 'b', 'm', 'o']\n",
      "o o b b m o\n"
     ]
    }
   ],
   "source": [
    "w=\"bomboo\"\n",
    "x=list(w)\n",
    "print(x)\n",
    "\n",
    "def swap(list,pos1,pos2,pos3):\n",
    "    list[pos1],list[pos2],list[pos3]=list[pos3],list[pos1],list[pos2]\n",
    "    return list\n",
    "w=swap(x,0,2,4)\n",
    "print(w)\n",
    "str=' '\n",
    "w2=str.join(w)\n",
    "print(w2)"
   ]
  },
  {
   "cell_type": "code",
   "execution_count": 2,
   "id": "f11a4261",
   "metadata": {},
   "outputs": [],
   "source": [
    "# write a code to interchange first and last alphabets of the word to create an anagram.\n"
   ]
  },
  {
   "cell_type": "code",
   "execution_count": 1,
   "id": "ccbe9113",
   "metadata": {},
   "outputs": [],
   "source": [
    "# write a code to create anagram. \n",
    "    "
   ]
  },
  {
   "cell_type": "code",
   "execution_count": 7,
   "id": "d355c7ea",
   "metadata": {},
   "outputs": [
    {
     "name": "stdout",
     "output_type": "stream",
     "text": [
      "this is anagram\n"
     ]
    }
   ],
   "source": [
    "word1=\"ape\"\n",
    "word2=\"pea\"\n",
    "\n",
    "a= sorted(word1)\n",
    "b= sorted(word2)\n",
    "if (a==b):\n",
    "    print(\"this is anagram\")\n",
    "else:\n",
    "    print(\"this is not anagram\")\n"
   ]
  },
  {
   "cell_type": "code",
   "execution_count": 8,
   "id": "7d3f4680",
   "metadata": {},
   "outputs": [
    {
     "name": "stdout",
     "output_type": "stream",
     "text": [
      "this is not anagram\n"
     ]
    }
   ],
   "source": [
    "word1= \"app\"\n",
    "word2=\"pea\"\n",
    "\n",
    "a= sorted(word1)\n",
    "b= sorted(word2)\n",
    "if (a==b):\n",
    "    print(\"this is anagram\")\n",
    "else:\n",
    "    print(\"this is not anagram\")\n"
   ]
  },
  {
   "cell_type": "code",
   "execution_count": 1,
   "id": "5ff63555",
   "metadata": {},
   "outputs": [
    {
     "name": "stdout",
     "output_type": "stream",
     "text": [
      "enter first str pea\n",
      "enter second strape\n",
      "this is anagram\n"
     ]
    }
   ],
   "source": [
    "\n",
    "# user identified  fuction\n",
    "word1=input(\"enter first str \")\n",
    "word2= input(\"enter second str\")\n",
    "a= sorted(word1)\n",
    "b= sorted(word2)\n",
    "if (a==b):\n",
    "    print(\"this is anagram\")\n",
    "else:\n",
    "    print(\"this is not anagram\")"
   ]
  },
  {
   "cell_type": "code",
   "execution_count": 3,
   "id": "b2fbc367",
   "metadata": {},
   "outputs": [
    {
     "name": "stdout",
     "output_type": "stream",
     "text": [
      "enter first strpea\n",
      "enter second strape\n",
      "this is anagram\n"
     ]
    }
   ],
   "source": [
    "\n",
    "\n",
    "# user identified function\n",
    "word1=input(\"enter first str\")\n",
    "word2=input(\"enter second str\")\n",
    "a=sorted(word1)\n",
    "b=sorted(word2)\n",
    "if (a==b):\n",
    "    print(\"this is anagram\")\n",
    "else:\n",
    "    print(\"this is not anagram\")"
   ]
  },
  {
   "cell_type": "code",
   "execution_count": null,
   "id": "725356f4",
   "metadata": {},
   "outputs": [],
   "source": [
    "# check"
   ]
  }
 ],
 "metadata": {
  "kernelspec": {
   "display_name": "Python 3 (ipykernel)",
   "language": "python",
   "name": "python3"
  },
  "language_info": {
   "codemirror_mode": {
    "name": "ipython",
    "version": 3
   },
   "file_extension": ".py",
   "mimetype": "text/x-python",
   "name": "python",
   "nbconvert_exporter": "python",
   "pygments_lexer": "ipython3",
   "version": "3.11.5"
  }
 },
 "nbformat": 4,
 "nbformat_minor": 5
}
